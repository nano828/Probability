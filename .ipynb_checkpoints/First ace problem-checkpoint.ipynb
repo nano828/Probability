{
 "cells": [
  {
   "cell_type": "code",
   "execution_count": 1,
   "id": "7b06c41a",
   "metadata": {},
   "outputs": [],
   "source": [
    "# importing numpy to use array\n",
    "import numpy as np"
   ]
  },
  {
   "cell_type": "code",
   "execution_count": 2,
   "id": "7222cac2",
   "metadata": {},
   "outputs": [],
   "source": [
    "# defining the playing cards deck with 4 aces and 48 non-aces\n",
    "deck0 = np.zeros(48)\n",
    "deck1 = np.ones(4)\n",
    "deck = np.hstack((deck0, deck1))"
   ]
  },
  {
   "cell_type": "code",
   "execution_count": 3,
   "id": "335eed59",
   "metadata": {},
   "outputs": [
    {
     "data": {
      "text/plain": [
       "array([0., 0., 0., 0., 0., 0., 0., 0., 0., 0., 0., 0., 0., 0., 0., 0., 0.,\n",
       "       0., 0., 0., 0., 0., 0., 0., 0., 0., 0., 0., 0., 0., 0., 0., 0., 0.,\n",
       "       0., 0., 0., 0., 0., 0., 0., 0., 0., 0., 0., 0., 0., 0.])"
      ]
     },
     "execution_count": 3,
     "metadata": {},
     "output_type": "execute_result"
    }
   ],
   "source": [
    "deck0"
   ]
  },
  {
   "cell_type": "code",
   "execution_count": 4,
   "id": "b481eab4",
   "metadata": {},
   "outputs": [
    {
     "data": {
      "text/plain": [
       "array([1., 1., 1., 1.])"
      ]
     },
     "execution_count": 4,
     "metadata": {},
     "output_type": "execute_result"
    }
   ],
   "source": [
    "deck1"
   ]
  },
  {
   "cell_type": "code",
   "execution_count": 5,
   "id": "e03c85f7",
   "metadata": {},
   "outputs": [
    {
     "data": {
      "text/plain": [
       "array([0., 0., 0., 0., 0., 0., 0., 0., 0., 0., 0., 0., 0., 0., 0., 0., 0.,\n",
       "       0., 0., 0., 0., 0., 0., 0., 0., 0., 0., 0., 0., 0., 0., 0., 0., 0.,\n",
       "       0., 0., 0., 0., 0., 0., 0., 0., 0., 0., 0., 0., 0., 0., 1., 1., 1.,\n",
       "       1.])"
      ]
     },
     "execution_count": 5,
     "metadata": {},
     "output_type": "execute_result"
    }
   ],
   "source": [
    "deck"
   ]
  },
  {
   "cell_type": "code",
   "execution_count": 6,
   "id": "c39930dc",
   "metadata": {},
   "outputs": [],
   "source": [
    "# defining a function that finds the location of the first ace appearance in a deck\n",
    "def find_first_ace(A):\n",
    "    p=1\n",
    "    for i in range(A.size):\n",
    "        if A[i]==1:\n",
    "            return p\n",
    "        else:\n",
    "            p = p+1"
   ]
  },
  {
   "cell_type": "code",
   "execution_count": 7,
   "id": "36470146",
   "metadata": {},
   "outputs": [
    {
     "name": "stdout",
     "output_type": "stream",
     "text": [
      "13\n"
     ]
    },
    {
     "data": {
      "text/plain": [
       "array([0., 0., 0., 0., 0., 0., 0., 0., 0., 0., 0., 0., 1., 0., 0., 0., 0.,\n",
       "       0., 0., 0., 0., 0., 0., 0., 0., 0., 0., 0., 0., 0., 1., 0., 0., 0.,\n",
       "       0., 0., 0., 0., 0., 1., 0., 0., 0., 0., 0., 0., 0., 0., 1., 0., 0.,\n",
       "       0.])"
      ]
     },
     "execution_count": 7,
     "metadata": {},
     "output_type": "execute_result"
    }
   ],
   "source": [
    "# shuffling the aces in the deck\n",
    "np.random.shuffle(deck)\n",
    "\n",
    "# printing the location of the first ace\n",
    "print(find_first_ace(deck))\n",
    "\n",
    "deck"
   ]
  },
  {
   "cell_type": "code",
   "execution_count": 8,
   "id": "04f31361",
   "metadata": {},
   "outputs": [
    {
     "name": "stdout",
     "output_type": "stream",
     "text": [
      "First ace average place is: 10.59479\n"
     ]
    }
   ],
   "source": [
    "# suffling the deck \"trials\" times, find the location of the first ace each time and save it in a list called FAL\n",
    "trials = 100000\n",
    "FAL = []\n",
    "for i in range(trials):\n",
    "    np.random.shuffle(deck)\n",
    "    fa = find_first_ace(deck)\n",
    "    FAL.append(fa)\n",
    "\n",
    "# find the avearge or mean of the list FAL\n",
    "FAL_avg = np.mean(FAL)\n",
    "\n",
    "# printing the value of the first ace average and showing the FAL\n",
    "print(f\"First ace average place is: {FAL_avg}\")\n",
    "\n",
    "#FAL\n"
   ]
  },
  {
   "cell_type": "code",
   "execution_count": null,
   "id": "a6936d66",
   "metadata": {},
   "outputs": [],
   "source": [
    "\n",
    "\n",
    "\n",
    "\n",
    "\n",
    "\n",
    "\n",
    "\n",
    "\n",
    "\n",
    "\n",
    "\n",
    "\n",
    "\n",
    "\n",
    "\n",
    "\n"
   ]
  },
  {
   "cell_type": "code",
   "execution_count": 9,
   "id": "e389f09c",
   "metadata": {},
   "outputs": [],
   "source": [
    "# defining a function that finds the location of the second ace appearance in a deck\n",
    "def find_second_ace(A):\n",
    "    p = find_first_ace(A)\n",
    "    n=1\n",
    "    for i in range(p, A.size):\n",
    "        if A[i]==1:\n",
    "            return p+n\n",
    "        else:\n",
    "            n = n+1"
   ]
  },
  {
   "cell_type": "code",
   "execution_count": 10,
   "id": "931f4c88",
   "metadata": {},
   "outputs": [
    {
     "name": "stdout",
     "output_type": "stream",
     "text": [
      "16\n",
      "26\n"
     ]
    },
    {
     "data": {
      "text/plain": [
       "array([0., 0., 0., 0., 0., 0., 0., 0., 0., 0., 0., 0., 0., 0., 0., 1., 0.,\n",
       "       0., 0., 0., 0., 0., 0., 0., 0., 1., 0., 0., 0., 0., 0., 0., 0., 0.,\n",
       "       0., 0., 0., 0., 0., 0., 0., 1., 1., 0., 0., 0., 0., 0., 0., 0., 0.,\n",
       "       0.])"
      ]
     },
     "execution_count": 10,
     "metadata": {},
     "output_type": "execute_result"
    }
   ],
   "source": [
    "# shuffling the aces in the deck\n",
    "np.random.shuffle(deck)\n",
    "\n",
    "# printing the location of the first and second ace\n",
    "print(f\"First ace: {find_first_ace(deck)}\")\n",
    "print(find_second_ace(deck))\n",
    "\n",
    "deck"
   ]
  },
  {
   "cell_type": "code",
   "execution_count": 11,
   "id": "ae688226",
   "metadata": {},
   "outputs": [
    {
     "name": "stdout",
     "output_type": "stream",
     "text": [
      "The second ace average place is: 21.18145\n"
     ]
    }
   ],
   "source": [
    "# suffling the deck \"trials\" times, find the location of the second ace each time and save it in a list called SAL\n",
    "trials = 100000\n",
    "SAL = []\n",
    "for i in range(trials):\n",
    "    np.random.shuffle(deck)\n",
    "    sa = find_second_ace(deck)\n",
    "    SAL.append(sa)\n",
    "\n",
    "# find the avearge or mean of the list FAL\n",
    "SAL_avg = np.mean(SAL)\n",
    "\n",
    "# printing the value of the first ace average and showing the FAL\n",
    "print(f\"The second ace average place is: {SAL_avg}\")\n",
    "\n",
    "#SAL"
   ]
  }
 ],
 "metadata": {
  "kernelspec": {
   "display_name": "Python 3 (ipykernel)",
   "language": "python",
   "name": "python3"
  },
  "language_info": {
   "codemirror_mode": {
    "name": "ipython",
    "version": 3
   },
   "file_extension": ".py",
   "mimetype": "text/x-python",
   "name": "python",
   "nbconvert_exporter": "python",
   "pygments_lexer": "ipython3",
   "version": "3.11.3"
  }
 },
 "nbformat": 4,
 "nbformat_minor": 5
}
