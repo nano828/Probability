{
 "cells": [
  {
   "cell_type": "code",
   "id": "7b06c41a",
   "metadata": {
    "ExecuteTime": {
     "end_time": "2025-10-31T16:56:29.197475Z",
     "start_time": "2025-10-31T16:56:29.109337Z"
    }
   },
   "source": [
    "# importing numpy to use array\n",
    "import numpy as np"
   ],
   "outputs": [],
   "execution_count": 1
  },
  {
   "cell_type": "code",
   "id": "7222cac2",
   "metadata": {
    "ExecuteTime": {
     "end_time": "2025-10-31T16:56:29.211287Z",
     "start_time": "2025-10-31T16:56:29.201053Z"
    }
   },
   "source": [
    "# defining the playing cards deck with 4 aces and 48 non-aces\n",
    "deck0 = np.zeros(48)\n",
    "deck1 = np.ones(4)\n",
    "deck = np.hstack((deck0, deck1))"
   ],
   "outputs": [],
   "execution_count": 2
  },
  {
   "cell_type": "code",
   "id": "335eed59",
   "metadata": {
    "ExecuteTime": {
     "end_time": "2025-10-31T16:56:29.231502Z",
     "start_time": "2025-10-31T16:56:29.221286Z"
    }
   },
   "source": [
    "deck0"
   ],
   "outputs": [
    {
     "data": {
      "text/plain": [
       "array([0., 0., 0., 0., 0., 0., 0., 0., 0., 0., 0., 0., 0., 0., 0., 0., 0.,\n",
       "       0., 0., 0., 0., 0., 0., 0., 0., 0., 0., 0., 0., 0., 0., 0., 0., 0.,\n",
       "       0., 0., 0., 0., 0., 0., 0., 0., 0., 0., 0., 0., 0., 0.])"
      ]
     },
     "execution_count": 3,
     "metadata": {},
     "output_type": "execute_result"
    }
   ],
   "execution_count": 3
  },
  {
   "cell_type": "code",
   "id": "b481eab4",
   "metadata": {
    "ExecuteTime": {
     "end_time": "2025-10-31T16:56:29.272927Z",
     "start_time": "2025-10-31T16:56:29.266163Z"
    }
   },
   "source": [
    "deck1"
   ],
   "outputs": [
    {
     "data": {
      "text/plain": [
       "array([1., 1., 1., 1.])"
      ]
     },
     "execution_count": 4,
     "metadata": {},
     "output_type": "execute_result"
    }
   ],
   "execution_count": 4
  },
  {
   "cell_type": "code",
   "id": "e03c85f7",
   "metadata": {
    "ExecuteTime": {
     "end_time": "2025-10-31T16:56:29.304830Z",
     "start_time": "2025-10-31T16:56:29.290735Z"
    }
   },
   "source": [
    "deck"
   ],
   "outputs": [
    {
     "data": {
      "text/plain": [
       "array([0., 0., 0., 0., 0., 0., 0., 0., 0., 0., 0., 0., 0., 0., 0., 0., 0.,\n",
       "       0., 0., 0., 0., 0., 0., 0., 0., 0., 0., 0., 0., 0., 0., 0., 0., 0.,\n",
       "       0., 0., 0., 0., 0., 0., 0., 0., 0., 0., 0., 0., 0., 0., 1., 1., 1.,\n",
       "       1.])"
      ]
     },
     "execution_count": 5,
     "metadata": {},
     "output_type": "execute_result"
    }
   ],
   "execution_count": 5
  },
  {
   "cell_type": "code",
   "id": "c39930dc",
   "metadata": {
    "ExecuteTime": {
     "end_time": "2025-10-31T16:56:29.340426Z",
     "start_time": "2025-10-31T16:56:29.329233Z"
    }
   },
   "source": [
    "# defining a function that finds the location of the first ace appearance in a deck\n",
    "def find_first_ace(A):\n",
    "    p=1\n",
    "    for i in range(A.size):\n",
    "        if A[i]==1:\n",
    "            return p\n",
    "        else:\n",
    "            p = p+1"
   ],
   "outputs": [],
   "execution_count": 6
  },
  {
   "cell_type": "code",
   "id": "36470146",
   "metadata": {
    "ExecuteTime": {
     "end_time": "2025-10-31T16:56:29.356113Z",
     "start_time": "2025-10-31T16:56:29.349359Z"
    }
   },
   "source": [
    "# shuffling the aces in the deck\n",
    "np.random.shuffle(deck)\n",
    "\n",
    "# printing the location of the first ace\n",
    "print(find_first_ace(deck))\n",
    "\n",
    "deck"
   ],
   "outputs": [
    {
     "name": "stdout",
     "output_type": "stream",
     "text": [
      "1\n"
     ]
    },
    {
     "data": {
      "text/plain": [
       "array([1., 0., 0., 0., 0., 0., 0., 0., 0., 0., 0., 0., 0., 0., 0., 0., 0.,\n",
       "       0., 0., 0., 0., 0., 0., 0., 1., 0., 0., 1., 0., 0., 0., 0., 0., 0.,\n",
       "       0., 0., 0., 0., 0., 0., 0., 0., 0., 0., 0., 0., 0., 0., 0., 0., 0.,\n",
       "       1.])"
      ]
     },
     "execution_count": 7,
     "metadata": {},
     "output_type": "execute_result"
    }
   ],
   "execution_count": 7
  },
  {
   "cell_type": "code",
   "id": "04f31361",
   "metadata": {
    "ExecuteTime": {
     "end_time": "2025-10-31T16:56:29.761598Z",
     "start_time": "2025-10-31T16:56:29.404020Z"
    }
   },
   "source": [
    "# suffling the deck \"trials\" times, find the location of the first ace each time and save it in a list called FAL\n",
    "trials = 100000\n",
    "FAL = []\n",
    "for i in range(trials):\n",
    "    np.random.shuffle(deck)\n",
    "    fa = find_first_ace(deck)\n",
    "    FAL.append(fa)\n",
    "\n",
    "# find the avearge or mean of the list FAL\n",
    "FAL_avg = np.mean(FAL)\n",
    "\n",
    "# printing the value of the first ace average and showing the FAL\n",
    "print(f\"First ace average place is: {FAL_avg}\")\n",
    "\n",
    "#FAL\n"
   ],
   "outputs": [
    {
     "name": "stdout",
     "output_type": "stream",
     "text": [
      "First ace average place is: 10.58641\n"
     ]
    }
   ],
   "execution_count": 8
  },
  {
   "cell_type": "code",
   "id": "e389f09c",
   "metadata": {
    "ExecuteTime": {
     "end_time": "2025-10-31T16:56:29.773582Z",
     "start_time": "2025-10-31T16:56:29.768104Z"
    }
   },
   "source": [
    "# defining a function that finds the location of the second ace appearance in a deck\n",
    "def find_second_ace(A):\n",
    "    p = find_first_ace(A)\n",
    "    n=1\n",
    "    for i in range(p, A.size):\n",
    "        if A[i]==1:\n",
    "            return p+n\n",
    "        else:\n",
    "            n = n+1"
   ],
   "outputs": [],
   "execution_count": 9
  },
  {
   "cell_type": "code",
   "id": "931f4c88",
   "metadata": {
    "ExecuteTime": {
     "end_time": "2025-10-31T16:56:29.798347Z",
     "start_time": "2025-10-31T16:56:29.788373Z"
    }
   },
   "source": [
    "# shuffling the aces in the deck\n",
    "np.random.shuffle(deck)\n",
    "\n",
    "# printing the location of the first and second ace\n",
    "print(f\"First ace: {find_first_ace(deck)}\")\n",
    "print(f\"Second ace: {find_second_ace(deck)}\")\n",
    "\n",
    "deck"
   ],
   "outputs": [
    {
     "name": "stdout",
     "output_type": "stream",
     "text": [
      "First ace: 4\n",
      "Second ace: 19\n"
     ]
    },
    {
     "data": {
      "text/plain": [
       "array([0., 0., 0., 1., 0., 0., 0., 0., 0., 0., 0., 0., 0., 0., 0., 0., 0.,\n",
       "       0., 1., 0., 0., 0., 0., 0., 0., 0., 1., 0., 0., 0., 0., 0., 0., 0.,\n",
       "       0., 0., 0., 0., 0., 0., 0., 0., 0., 1., 0., 0., 0., 0., 0., 0., 0.,\n",
       "       0.])"
      ]
     },
     "execution_count": 10,
     "metadata": {},
     "output_type": "execute_result"
    }
   ],
   "execution_count": 10
  },
  {
   "cell_type": "code",
   "id": "ae688226",
   "metadata": {
    "ExecuteTime": {
     "end_time": "2025-10-31T16:56:30.397452Z",
     "start_time": "2025-10-31T16:56:29.901108Z"
    }
   },
   "source": [
    "# suffling the deck \"trials\" times, find the location of the second ace each time and save it in a list called SAL\n",
    "trials = 100000\n",
    "SAL = []\n",
    "for i in range(trials):\n",
    "    np.random.shuffle(deck)\n",
    "    sa = find_second_ace(deck)\n",
    "    SAL.append(sa)\n",
    "\n",
    "# find the avearge or mean of the list FAL\n",
    "SAL_avg = np.mean(SAL)\n",
    "\n",
    "# printing the value of the first ace average and showing the FAL\n",
    "print(f\"The second ace average place is: {SAL_avg}\")\n",
    "\n",
    "#SAL"
   ],
   "outputs": [
    {
     "name": "stdout",
     "output_type": "stream",
     "text": [
      "The second ace average place is: 21.22634\n"
     ]
    }
   ],
   "execution_count": 11
  }
 ],
 "metadata": {
  "kernelspec": {
   "display_name": "Python 3 (ipykernel)",
   "language": "python",
   "name": "python3"
  },
  "language_info": {
   "codemirror_mode": {
    "name": "ipython",
    "version": 3
   },
   "file_extension": ".py",
   "mimetype": "text/x-python",
   "name": "python",
   "nbconvert_exporter": "python",
   "pygments_lexer": "ipython3",
   "version": "3.11.3"
  }
 },
 "nbformat": 4,
 "nbformat_minor": 5
}
